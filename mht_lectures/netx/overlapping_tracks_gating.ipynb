{
 "cells": [
  {
   "cell_type": "code",
   "execution_count": 27,
   "id": "c424ab31",
   "metadata": {},
   "outputs": [],
   "source": [
    "# Import libraries\n",
    "import math\n",
    "import networkx as nx\n",
    "import numpy as np\n",
    "import plotly.graph_objects as go"
   ]
  },
  {
   "cell_type": "code",
   "execution_count": 37,
   "id": "0ea8e012",
   "metadata": {},
   "outputs": [],
   "source": [
    "# Generate crossing path\n",
    "def x_align(length, offset):\n",
    "    x_vals = np.linspace(0, 10, length)\n",
    "    y_vals = np.repeat(offset, length)\n",
    "\n",
    "    reading = np.vstack((x_vals, y_vals))\n",
    "    reading = reading.T\n",
    "\n",
    "    return reading\n",
    "\n",
    "def generate_path(length, flip=False):\n",
    "    val = 5000\n",
    "    poly_coefs = [4, 3, 2, 1]\n",
    "\n",
    "    x_vals = np.linspace(-40, 40, length)\n",
    "    y_vals = np.polyval(poly_coefs, x_vals) / val\n",
    "    if flip:\n",
    "        y_vals = np.polyval(poly_coefs, x_vals) / val - 10\n",
    "        x_vals = np.linspace(40, -40, length)\n",
    "\n",
    "    reading = np.vstack((x_vals + 40, y_vals + 60))\n",
    "    reading = reading.T\n",
    "\n",
    "    return reading\n"
   ]
  },
  {
   "cell_type": "code",
   "execution_count": 47,
   "id": "bb4d6bff",
   "metadata": {},
   "outputs": [],
   "source": [
    "# Plot tracks path\n",
    "def plot_paths(target_0, target_1):\n",
    "    delta = 20\n",
    "    # Separate each axis data\n",
    "    x_coord_0 = [x[0] for x in target_0]\n",
    "    y_coord_0 = [x[1] for x in target_0]\n",
    "\n",
    "    x_coord_1 = [x[0] for x in target_1]\n",
    "    y_coord_1 = [x[1] for x in target_1]\n",
    "    \n",
    "    # Initialize Plotly Fig object\n",
    "    fig = go.Figure()\n",
    "    # Add scatter plot for the sensor data\n",
    "    fig.add_trace(go.Scatter(x=x_coord_0, y=y_coord_0, mode=\"markers\", name='Target 1 detections'))\n",
    "    fig.add_trace(go.Scatter(x=x_coord_0, y=y_coord_0, mode=\"lines\",  name='Target 1 track'))\n",
    "    fig.add_trace(go.Scatter(x=x_coord_1, y=y_coord_1, mode=\"markers\",  name='Target 2 detections'))\n",
    "    fig.add_trace(go.Scatter(x=x_coord_1, y=y_coord_1, mode=\"lines\",  name='Target 2 track'))\n",
    "    \n",
    "    fig.update_layout(\n",
    "        autosize=False,\n",
    "        width=100,\n",
    "        height=100,\n",
    "        title=\"Actual Targets Plot\",\n",
    "        xaxis_title=\"x axis\",\n",
    "        yaxis_title=\"y axis\",\n",
    "        xaxis_range=[min(target_0[:, 0]) - 2, max(target_0[:, 0]) + 2],\n",
    "        yaxis_range=[min(target_0[:, 1]) - delta, max(target_1[:, 1]) + delta],\n",
    "        legend_title=\"Detections and Tracks\",\n",
    "        font=dict(\n",
    "            family=\"Courier New, monospace\",\n",
    "            size=18,\n",
    "            color=\"RebeccaPurple\"\n",
    "        )\n",
    "    )\n",
    "\n",
    "    fig.show()"
   ]
  },
  {
   "cell_type": "code",
   "execution_count": 53,
   "id": "9b74d7e8",
   "metadata": {},
   "outputs": [
    {
     "data": {
      "application/vnd.plotly.v1+json": {
       "config": {
        "plotlyServerURL": "https://plot.ly"
       },
       "data": [
        {
         "mode": "markers",
         "name": "Target 1 detections",
         "type": "scatter",
         "x": [
          0,
          7.272727272727273,
          14.545454545454547,
          21.818181818181817,
          29.09090909090909,
          36.36363636363636,
          43.63636363636363,
          50.90909090909091,
          58.18181818181818,
          65.45454545454545,
          72.72727272727272,
          80
         ],
         "y": [
          9.7442,
          32.58707903831706,
          47.18448850488355,
          55.38285965439519,
          59.028623741547705,
          59.96821202103681,
          60.04805574755823,
          61.11458617580766,
          65.01423456048084,
          73.59343215627348,
          88.69861021788128,
          112.1762
         ]
        },
        {
         "mode": "lines",
         "name": "Target 1 track",
         "type": "scatter",
         "x": [
          0,
          7.272727272727273,
          14.545454545454547,
          21.818181818181817,
          29.09090909090909,
          36.36363636363636,
          43.63636363636363,
          50.90909090909091,
          58.18181818181818,
          65.45454545454545,
          72.72727272727272,
          80
         ],
         "y": [
          9.7442,
          32.58707903831706,
          47.18448850488355,
          55.38285965439519,
          59.028623741547705,
          59.96821202103681,
          60.04805574755823,
          61.11458617580766,
          65.01423456048084,
          73.59343215627348,
          88.69861021788128,
          112.1762
         ]
        },
        {
         "mode": "markers",
         "name": "Target 2 detections",
         "type": "scatter",
         "x": [
          80,
          72.72727272727272,
          65.45454545454545,
          58.18181818181819,
          50.90909090909091,
          43.63636363636364,
          36.36363636363637,
          29.090909090909093,
          21.81818181818182,
          14.545454545454547,
          7.2727272727272805,
          0
         ],
         "y": [
          -0.2558000000000007,
          22.587079038317057,
          37.18448850488355,
          45.38285965439519,
          49.028623741547705,
          49.96821202103681,
          50.04805574755822,
          51.11458617580766,
          55.014234560480844,
          63.59343215627348,
          78.69861021788128,
          102.1762
         ]
        },
        {
         "mode": "lines",
         "name": "Target 2 track",
         "type": "scatter",
         "x": [
          80,
          72.72727272727272,
          65.45454545454545,
          58.18181818181819,
          50.90909090909091,
          43.63636363636364,
          36.36363636363637,
          29.090909090909093,
          21.81818181818182,
          14.545454545454547,
          7.2727272727272805,
          0
         ],
         "y": [
          -0.2558000000000007,
          22.587079038317057,
          37.18448850488355,
          45.38285965439519,
          49.028623741547705,
          49.96821202103681,
          50.04805574755822,
          51.11458617580766,
          55.014234560480844,
          63.59343215627348,
          78.69861021788128,
          102.1762
         ]
        }
       ],
       "layout": {
        "font": {
         "color": "RebeccaPurple",
         "family": "Courier New, monospace",
         "size": 18
        },
        "legend": {
         "title": {
          "text": "Detections and Tracks"
         }
        },
        "template": {
         "data": {
          "bar": [
           {
            "error_x": {
             "color": "#2a3f5f"
            },
            "error_y": {
             "color": "#2a3f5f"
            },
            "marker": {
             "line": {
              "color": "#E5ECF6",
              "width": 0.5
             },
             "pattern": {
              "fillmode": "overlay",
              "size": 10,
              "solidity": 0.2
             }
            },
            "type": "bar"
           }
          ],
          "barpolar": [
           {
            "marker": {
             "line": {
              "color": "#E5ECF6",
              "width": 0.5
             },
             "pattern": {
              "fillmode": "overlay",
              "size": 10,
              "solidity": 0.2
             }
            },
            "type": "barpolar"
           }
          ],
          "carpet": [
           {
            "aaxis": {
             "endlinecolor": "#2a3f5f",
             "gridcolor": "white",
             "linecolor": "white",
             "minorgridcolor": "white",
             "startlinecolor": "#2a3f5f"
            },
            "baxis": {
             "endlinecolor": "#2a3f5f",
             "gridcolor": "white",
             "linecolor": "white",
             "minorgridcolor": "white",
             "startlinecolor": "#2a3f5f"
            },
            "type": "carpet"
           }
          ],
          "choropleth": [
           {
            "colorbar": {
             "outlinewidth": 0,
             "ticks": ""
            },
            "type": "choropleth"
           }
          ],
          "contour": [
           {
            "colorbar": {
             "outlinewidth": 0,
             "ticks": ""
            },
            "colorscale": [
             [
              0,
              "#0d0887"
             ],
             [
              0.1111111111111111,
              "#46039f"
             ],
             [
              0.2222222222222222,
              "#7201a8"
             ],
             [
              0.3333333333333333,
              "#9c179e"
             ],
             [
              0.4444444444444444,
              "#bd3786"
             ],
             [
              0.5555555555555556,
              "#d8576b"
             ],
             [
              0.6666666666666666,
              "#ed7953"
             ],
             [
              0.7777777777777778,
              "#fb9f3a"
             ],
             [
              0.8888888888888888,
              "#fdca26"
             ],
             [
              1,
              "#f0f921"
             ]
            ],
            "type": "contour"
           }
          ],
          "contourcarpet": [
           {
            "colorbar": {
             "outlinewidth": 0,
             "ticks": ""
            },
            "type": "contourcarpet"
           }
          ],
          "heatmap": [
           {
            "colorbar": {
             "outlinewidth": 0,
             "ticks": ""
            },
            "colorscale": [
             [
              0,
              "#0d0887"
             ],
             [
              0.1111111111111111,
              "#46039f"
             ],
             [
              0.2222222222222222,
              "#7201a8"
             ],
             [
              0.3333333333333333,
              "#9c179e"
             ],
             [
              0.4444444444444444,
              "#bd3786"
             ],
             [
              0.5555555555555556,
              "#d8576b"
             ],
             [
              0.6666666666666666,
              "#ed7953"
             ],
             [
              0.7777777777777778,
              "#fb9f3a"
             ],
             [
              0.8888888888888888,
              "#fdca26"
             ],
             [
              1,
              "#f0f921"
             ]
            ],
            "type": "heatmap"
           }
          ],
          "heatmapgl": [
           {
            "colorbar": {
             "outlinewidth": 0,
             "ticks": ""
            },
            "colorscale": [
             [
              0,
              "#0d0887"
             ],
             [
              0.1111111111111111,
              "#46039f"
             ],
             [
              0.2222222222222222,
              "#7201a8"
             ],
             [
              0.3333333333333333,
              "#9c179e"
             ],
             [
              0.4444444444444444,
              "#bd3786"
             ],
             [
              0.5555555555555556,
              "#d8576b"
             ],
             [
              0.6666666666666666,
              "#ed7953"
             ],
             [
              0.7777777777777778,
              "#fb9f3a"
             ],
             [
              0.8888888888888888,
              "#fdca26"
             ],
             [
              1,
              "#f0f921"
             ]
            ],
            "type": "heatmapgl"
           }
          ],
          "histogram": [
           {
            "marker": {
             "pattern": {
              "fillmode": "overlay",
              "size": 10,
              "solidity": 0.2
             }
            },
            "type": "histogram"
           }
          ],
          "histogram2d": [
           {
            "colorbar": {
             "outlinewidth": 0,
             "ticks": ""
            },
            "colorscale": [
             [
              0,
              "#0d0887"
             ],
             [
              0.1111111111111111,
              "#46039f"
             ],
             [
              0.2222222222222222,
              "#7201a8"
             ],
             [
              0.3333333333333333,
              "#9c179e"
             ],
             [
              0.4444444444444444,
              "#bd3786"
             ],
             [
              0.5555555555555556,
              "#d8576b"
             ],
             [
              0.6666666666666666,
              "#ed7953"
             ],
             [
              0.7777777777777778,
              "#fb9f3a"
             ],
             [
              0.8888888888888888,
              "#fdca26"
             ],
             [
              1,
              "#f0f921"
             ]
            ],
            "type": "histogram2d"
           }
          ],
          "histogram2dcontour": [
           {
            "colorbar": {
             "outlinewidth": 0,
             "ticks": ""
            },
            "colorscale": [
             [
              0,
              "#0d0887"
             ],
             [
              0.1111111111111111,
              "#46039f"
             ],
             [
              0.2222222222222222,
              "#7201a8"
             ],
             [
              0.3333333333333333,
              "#9c179e"
             ],
             [
              0.4444444444444444,
              "#bd3786"
             ],
             [
              0.5555555555555556,
              "#d8576b"
             ],
             [
              0.6666666666666666,
              "#ed7953"
             ],
             [
              0.7777777777777778,
              "#fb9f3a"
             ],
             [
              0.8888888888888888,
              "#fdca26"
             ],
             [
              1,
              "#f0f921"
             ]
            ],
            "type": "histogram2dcontour"
           }
          ],
          "mesh3d": [
           {
            "colorbar": {
             "outlinewidth": 0,
             "ticks": ""
            },
            "type": "mesh3d"
           }
          ],
          "parcoords": [
           {
            "line": {
             "colorbar": {
              "outlinewidth": 0,
              "ticks": ""
             }
            },
            "type": "parcoords"
           }
          ],
          "pie": [
           {
            "automargin": true,
            "type": "pie"
           }
          ],
          "scatter": [
           {
            "fillpattern": {
             "fillmode": "overlay",
             "size": 10,
             "solidity": 0.2
            },
            "type": "scatter"
           }
          ],
          "scatter3d": [
           {
            "line": {
             "colorbar": {
              "outlinewidth": 0,
              "ticks": ""
             }
            },
            "marker": {
             "colorbar": {
              "outlinewidth": 0,
              "ticks": ""
             }
            },
            "type": "scatter3d"
           }
          ],
          "scattercarpet": [
           {
            "marker": {
             "colorbar": {
              "outlinewidth": 0,
              "ticks": ""
             }
            },
            "type": "scattercarpet"
           }
          ],
          "scattergeo": [
           {
            "marker": {
             "colorbar": {
              "outlinewidth": 0,
              "ticks": ""
             }
            },
            "type": "scattergeo"
           }
          ],
          "scattergl": [
           {
            "marker": {
             "colorbar": {
              "outlinewidth": 0,
              "ticks": ""
             }
            },
            "type": "scattergl"
           }
          ],
          "scattermapbox": [
           {
            "marker": {
             "colorbar": {
              "outlinewidth": 0,
              "ticks": ""
             }
            },
            "type": "scattermapbox"
           }
          ],
          "scatterpolar": [
           {
            "marker": {
             "colorbar": {
              "outlinewidth": 0,
              "ticks": ""
             }
            },
            "type": "scatterpolar"
           }
          ],
          "scatterpolargl": [
           {
            "marker": {
             "colorbar": {
              "outlinewidth": 0,
              "ticks": ""
             }
            },
            "type": "scatterpolargl"
           }
          ],
          "scatterternary": [
           {
            "marker": {
             "colorbar": {
              "outlinewidth": 0,
              "ticks": ""
             }
            },
            "type": "scatterternary"
           }
          ],
          "surface": [
           {
            "colorbar": {
             "outlinewidth": 0,
             "ticks": ""
            },
            "colorscale": [
             [
              0,
              "#0d0887"
             ],
             [
              0.1111111111111111,
              "#46039f"
             ],
             [
              0.2222222222222222,
              "#7201a8"
             ],
             [
              0.3333333333333333,
              "#9c179e"
             ],
             [
              0.4444444444444444,
              "#bd3786"
             ],
             [
              0.5555555555555556,
              "#d8576b"
             ],
             [
              0.6666666666666666,
              "#ed7953"
             ],
             [
              0.7777777777777778,
              "#fb9f3a"
             ],
             [
              0.8888888888888888,
              "#fdca26"
             ],
             [
              1,
              "#f0f921"
             ]
            ],
            "type": "surface"
           }
          ],
          "table": [
           {
            "cells": {
             "fill": {
              "color": "#EBF0F8"
             },
             "line": {
              "color": "white"
             }
            },
            "header": {
             "fill": {
              "color": "#C8D4E3"
             },
             "line": {
              "color": "white"
             }
            },
            "type": "table"
           }
          ]
         },
         "layout": {
          "annotationdefaults": {
           "arrowcolor": "#2a3f5f",
           "arrowhead": 0,
           "arrowwidth": 1
          },
          "autotypenumbers": "strict",
          "coloraxis": {
           "colorbar": {
            "outlinewidth": 0,
            "ticks": ""
           }
          },
          "colorscale": {
           "diverging": [
            [
             0,
             "#8e0152"
            ],
            [
             0.1,
             "#c51b7d"
            ],
            [
             0.2,
             "#de77ae"
            ],
            [
             0.3,
             "#f1b6da"
            ],
            [
             0.4,
             "#fde0ef"
            ],
            [
             0.5,
             "#f7f7f7"
            ],
            [
             0.6,
             "#e6f5d0"
            ],
            [
             0.7,
             "#b8e186"
            ],
            [
             0.8,
             "#7fbc41"
            ],
            [
             0.9,
             "#4d9221"
            ],
            [
             1,
             "#276419"
            ]
           ],
           "sequential": [
            [
             0,
             "#0d0887"
            ],
            [
             0.1111111111111111,
             "#46039f"
            ],
            [
             0.2222222222222222,
             "#7201a8"
            ],
            [
             0.3333333333333333,
             "#9c179e"
            ],
            [
             0.4444444444444444,
             "#bd3786"
            ],
            [
             0.5555555555555556,
             "#d8576b"
            ],
            [
             0.6666666666666666,
             "#ed7953"
            ],
            [
             0.7777777777777778,
             "#fb9f3a"
            ],
            [
             0.8888888888888888,
             "#fdca26"
            ],
            [
             1,
             "#f0f921"
            ]
           ],
           "sequentialminus": [
            [
             0,
             "#0d0887"
            ],
            [
             0.1111111111111111,
             "#46039f"
            ],
            [
             0.2222222222222222,
             "#7201a8"
            ],
            [
             0.3333333333333333,
             "#9c179e"
            ],
            [
             0.4444444444444444,
             "#bd3786"
            ],
            [
             0.5555555555555556,
             "#d8576b"
            ],
            [
             0.6666666666666666,
             "#ed7953"
            ],
            [
             0.7777777777777778,
             "#fb9f3a"
            ],
            [
             0.8888888888888888,
             "#fdca26"
            ],
            [
             1,
             "#f0f921"
            ]
           ]
          },
          "colorway": [
           "#636efa",
           "#EF553B",
           "#00cc96",
           "#ab63fa",
           "#FFA15A",
           "#19d3f3",
           "#FF6692",
           "#B6E880",
           "#FF97FF",
           "#FECB52"
          ],
          "font": {
           "color": "#2a3f5f"
          },
          "geo": {
           "bgcolor": "white",
           "lakecolor": "white",
           "landcolor": "#E5ECF6",
           "showlakes": true,
           "showland": true,
           "subunitcolor": "white"
          },
          "hoverlabel": {
           "align": "left"
          },
          "hovermode": "closest",
          "mapbox": {
           "style": "light"
          },
          "paper_bgcolor": "white",
          "plot_bgcolor": "#E5ECF6",
          "polar": {
           "angularaxis": {
            "gridcolor": "white",
            "linecolor": "white",
            "ticks": ""
           },
           "bgcolor": "#E5ECF6",
           "radialaxis": {
            "gridcolor": "white",
            "linecolor": "white",
            "ticks": ""
           }
          },
          "scene": {
           "xaxis": {
            "backgroundcolor": "#E5ECF6",
            "gridcolor": "white",
            "gridwidth": 2,
            "linecolor": "white",
            "showbackground": true,
            "ticks": "",
            "zerolinecolor": "white"
           },
           "yaxis": {
            "backgroundcolor": "#E5ECF6",
            "gridcolor": "white",
            "gridwidth": 2,
            "linecolor": "white",
            "showbackground": true,
            "ticks": "",
            "zerolinecolor": "white"
           },
           "zaxis": {
            "backgroundcolor": "#E5ECF6",
            "gridcolor": "white",
            "gridwidth": 2,
            "linecolor": "white",
            "showbackground": true,
            "ticks": "",
            "zerolinecolor": "white"
           }
          },
          "shapedefaults": {
           "line": {
            "color": "#2a3f5f"
           }
          },
          "ternary": {
           "aaxis": {
            "gridcolor": "white",
            "linecolor": "white",
            "ticks": ""
           },
           "baxis": {
            "gridcolor": "white",
            "linecolor": "white",
            "ticks": ""
           },
           "bgcolor": "#E5ECF6",
           "caxis": {
            "gridcolor": "white",
            "linecolor": "white",
            "ticks": ""
           }
          },
          "title": {
           "x": 0.05
          },
          "xaxis": {
           "automargin": true,
           "gridcolor": "white",
           "linecolor": "white",
           "ticks": "",
           "title": {
            "standoff": 15
           },
           "zerolinecolor": "white",
           "zerolinewidth": 2
          },
          "yaxis": {
           "automargin": true,
           "gridcolor": "white",
           "linecolor": "white",
           "ticks": "",
           "title": {
            "standoff": 15
           },
           "zerolinecolor": "white",
           "zerolinewidth": 2
          }
         }
        },
        "title": {
         "text": "Actual Targets Plot"
        },
        "xaxis": {
         "range": [
          -2,
          82
         ],
         "title": {
          "text": "x axis"
         }
        },
        "yaxis": {
         "range": [
          -10.2558,
          122.1762
         ],
         "title": {
          "text": "y axis"
         }
        }
       }
      },
      "text/html": [
       "<div>                            <div id=\"6c9fab3c-7e66-45f5-8177-318873bc3229\" class=\"plotly-graph-div\" style=\"height:525px; width:100%;\"></div>            <script type=\"text/javascript\">                require([\"plotly\"], function(Plotly) {                    window.PLOTLYENV=window.PLOTLYENV || {};                                    if (document.getElementById(\"6c9fab3c-7e66-45f5-8177-318873bc3229\")) {                    Plotly.newPlot(                        \"6c9fab3c-7e66-45f5-8177-318873bc3229\",                        [{\"mode\":\"markers\",\"name\":\"Target 1 detections\",\"x\":[0.0,7.272727272727273,14.545454545454547,21.818181818181817,29.09090909090909,36.36363636363636,43.63636363636363,50.90909090909091,58.18181818181818,65.45454545454545,72.72727272727272,80.0],\"y\":[9.7442,32.58707903831706,47.18448850488355,55.38285965439519,59.028623741547705,59.96821202103681,60.04805574755823,61.11458617580766,65.01423456048084,73.59343215627348,88.69861021788128,112.1762],\"type\":\"scatter\"},{\"mode\":\"lines\",\"name\":\"Target 1 track\",\"x\":[0.0,7.272727272727273,14.545454545454547,21.818181818181817,29.09090909090909,36.36363636363636,43.63636363636363,50.90909090909091,58.18181818181818,65.45454545454545,72.72727272727272,80.0],\"y\":[9.7442,32.58707903831706,47.18448850488355,55.38285965439519,59.028623741547705,59.96821202103681,60.04805574755823,61.11458617580766,65.01423456048084,73.59343215627348,88.69861021788128,112.1762],\"type\":\"scatter\"},{\"mode\":\"markers\",\"name\":\"Target 2 detections\",\"x\":[80.0,72.72727272727272,65.45454545454545,58.18181818181819,50.90909090909091,43.63636363636364,36.36363636363637,29.090909090909093,21.81818181818182,14.545454545454547,7.2727272727272805,0.0],\"y\":[-0.2558000000000007,22.587079038317057,37.18448850488355,45.38285965439519,49.028623741547705,49.96821202103681,50.04805574755822,51.11458617580766,55.014234560480844,63.59343215627348,78.69861021788128,102.1762],\"type\":\"scatter\"},{\"mode\":\"lines\",\"name\":\"Target 2 track\",\"x\":[80.0,72.72727272727272,65.45454545454545,58.18181818181819,50.90909090909091,43.63636363636364,36.36363636363637,29.090909090909093,21.81818181818182,14.545454545454547,7.2727272727272805,0.0],\"y\":[-0.2558000000000007,22.587079038317057,37.18448850488355,45.38285965439519,49.028623741547705,49.96821202103681,50.04805574755822,51.11458617580766,55.014234560480844,63.59343215627348,78.69861021788128,102.1762],\"type\":\"scatter\"}],                        {\"template\":{\"data\":{\"histogram2dcontour\":[{\"type\":\"histogram2dcontour\",\"colorbar\":{\"outlinewidth\":0,\"ticks\":\"\"},\"colorscale\":[[0.0,\"#0d0887\"],[0.1111111111111111,\"#46039f\"],[0.2222222222222222,\"#7201a8\"],[0.3333333333333333,\"#9c179e\"],[0.4444444444444444,\"#bd3786\"],[0.5555555555555556,\"#d8576b\"],[0.6666666666666666,\"#ed7953\"],[0.7777777777777778,\"#fb9f3a\"],[0.8888888888888888,\"#fdca26\"],[1.0,\"#f0f921\"]]}],\"choropleth\":[{\"type\":\"choropleth\",\"colorbar\":{\"outlinewidth\":0,\"ticks\":\"\"}}],\"histogram2d\":[{\"type\":\"histogram2d\",\"colorbar\":{\"outlinewidth\":0,\"ticks\":\"\"},\"colorscale\":[[0.0,\"#0d0887\"],[0.1111111111111111,\"#46039f\"],[0.2222222222222222,\"#7201a8\"],[0.3333333333333333,\"#9c179e\"],[0.4444444444444444,\"#bd3786\"],[0.5555555555555556,\"#d8576b\"],[0.6666666666666666,\"#ed7953\"],[0.7777777777777778,\"#fb9f3a\"],[0.8888888888888888,\"#fdca26\"],[1.0,\"#f0f921\"]]}],\"heatmap\":[{\"type\":\"heatmap\",\"colorbar\":{\"outlinewidth\":0,\"ticks\":\"\"},\"colorscale\":[[0.0,\"#0d0887\"],[0.1111111111111111,\"#46039f\"],[0.2222222222222222,\"#7201a8\"],[0.3333333333333333,\"#9c179e\"],[0.4444444444444444,\"#bd3786\"],[0.5555555555555556,\"#d8576b\"],[0.6666666666666666,\"#ed7953\"],[0.7777777777777778,\"#fb9f3a\"],[0.8888888888888888,\"#fdca26\"],[1.0,\"#f0f921\"]]}],\"heatmapgl\":[{\"type\":\"heatmapgl\",\"colorbar\":{\"outlinewidth\":0,\"ticks\":\"\"},\"colorscale\":[[0.0,\"#0d0887\"],[0.1111111111111111,\"#46039f\"],[0.2222222222222222,\"#7201a8\"],[0.3333333333333333,\"#9c179e\"],[0.4444444444444444,\"#bd3786\"],[0.5555555555555556,\"#d8576b\"],[0.6666666666666666,\"#ed7953\"],[0.7777777777777778,\"#fb9f3a\"],[0.8888888888888888,\"#fdca26\"],[1.0,\"#f0f921\"]]}],\"contourcarpet\":[{\"type\":\"contourcarpet\",\"colorbar\":{\"outlinewidth\":0,\"ticks\":\"\"}}],\"contour\":[{\"type\":\"contour\",\"colorbar\":{\"outlinewidth\":0,\"ticks\":\"\"},\"colorscale\":[[0.0,\"#0d0887\"],[0.1111111111111111,\"#46039f\"],[0.2222222222222222,\"#7201a8\"],[0.3333333333333333,\"#9c179e\"],[0.4444444444444444,\"#bd3786\"],[0.5555555555555556,\"#d8576b\"],[0.6666666666666666,\"#ed7953\"],[0.7777777777777778,\"#fb9f3a\"],[0.8888888888888888,\"#fdca26\"],[1.0,\"#f0f921\"]]}],\"surface\":[{\"type\":\"surface\",\"colorbar\":{\"outlinewidth\":0,\"ticks\":\"\"},\"colorscale\":[[0.0,\"#0d0887\"],[0.1111111111111111,\"#46039f\"],[0.2222222222222222,\"#7201a8\"],[0.3333333333333333,\"#9c179e\"],[0.4444444444444444,\"#bd3786\"],[0.5555555555555556,\"#d8576b\"],[0.6666666666666666,\"#ed7953\"],[0.7777777777777778,\"#fb9f3a\"],[0.8888888888888888,\"#fdca26\"],[1.0,\"#f0f921\"]]}],\"mesh3d\":[{\"type\":\"mesh3d\",\"colorbar\":{\"outlinewidth\":0,\"ticks\":\"\"}}],\"scatter\":[{\"fillpattern\":{\"fillmode\":\"overlay\",\"size\":10,\"solidity\":0.2},\"type\":\"scatter\"}],\"parcoords\":[{\"type\":\"parcoords\",\"line\":{\"colorbar\":{\"outlinewidth\":0,\"ticks\":\"\"}}}],\"scatterpolargl\":[{\"type\":\"scatterpolargl\",\"marker\":{\"colorbar\":{\"outlinewidth\":0,\"ticks\":\"\"}}}],\"bar\":[{\"error_x\":{\"color\":\"#2a3f5f\"},\"error_y\":{\"color\":\"#2a3f5f\"},\"marker\":{\"line\":{\"color\":\"#E5ECF6\",\"width\":0.5},\"pattern\":{\"fillmode\":\"overlay\",\"size\":10,\"solidity\":0.2}},\"type\":\"bar\"}],\"scattergeo\":[{\"type\":\"scattergeo\",\"marker\":{\"colorbar\":{\"outlinewidth\":0,\"ticks\":\"\"}}}],\"scatterpolar\":[{\"type\":\"scatterpolar\",\"marker\":{\"colorbar\":{\"outlinewidth\":0,\"ticks\":\"\"}}}],\"histogram\":[{\"marker\":{\"pattern\":{\"fillmode\":\"overlay\",\"size\":10,\"solidity\":0.2}},\"type\":\"histogram\"}],\"scattergl\":[{\"type\":\"scattergl\",\"marker\":{\"colorbar\":{\"outlinewidth\":0,\"ticks\":\"\"}}}],\"scatter3d\":[{\"type\":\"scatter3d\",\"line\":{\"colorbar\":{\"outlinewidth\":0,\"ticks\":\"\"}},\"marker\":{\"colorbar\":{\"outlinewidth\":0,\"ticks\":\"\"}}}],\"scattermapbox\":[{\"type\":\"scattermapbox\",\"marker\":{\"colorbar\":{\"outlinewidth\":0,\"ticks\":\"\"}}}],\"scatterternary\":[{\"type\":\"scatterternary\",\"marker\":{\"colorbar\":{\"outlinewidth\":0,\"ticks\":\"\"}}}],\"scattercarpet\":[{\"type\":\"scattercarpet\",\"marker\":{\"colorbar\":{\"outlinewidth\":0,\"ticks\":\"\"}}}],\"carpet\":[{\"aaxis\":{\"endlinecolor\":\"#2a3f5f\",\"gridcolor\":\"white\",\"linecolor\":\"white\",\"minorgridcolor\":\"white\",\"startlinecolor\":\"#2a3f5f\"},\"baxis\":{\"endlinecolor\":\"#2a3f5f\",\"gridcolor\":\"white\",\"linecolor\":\"white\",\"minorgridcolor\":\"white\",\"startlinecolor\":\"#2a3f5f\"},\"type\":\"carpet\"}],\"table\":[{\"cells\":{\"fill\":{\"color\":\"#EBF0F8\"},\"line\":{\"color\":\"white\"}},\"header\":{\"fill\":{\"color\":\"#C8D4E3\"},\"line\":{\"color\":\"white\"}},\"type\":\"table\"}],\"barpolar\":[{\"marker\":{\"line\":{\"color\":\"#E5ECF6\",\"width\":0.5},\"pattern\":{\"fillmode\":\"overlay\",\"size\":10,\"solidity\":0.2}},\"type\":\"barpolar\"}],\"pie\":[{\"automargin\":true,\"type\":\"pie\"}]},\"layout\":{\"autotypenumbers\":\"strict\",\"colorway\":[\"#636efa\",\"#EF553B\",\"#00cc96\",\"#ab63fa\",\"#FFA15A\",\"#19d3f3\",\"#FF6692\",\"#B6E880\",\"#FF97FF\",\"#FECB52\"],\"font\":{\"color\":\"#2a3f5f\"},\"hovermode\":\"closest\",\"hoverlabel\":{\"align\":\"left\"},\"paper_bgcolor\":\"white\",\"plot_bgcolor\":\"#E5ECF6\",\"polar\":{\"bgcolor\":\"#E5ECF6\",\"angularaxis\":{\"gridcolor\":\"white\",\"linecolor\":\"white\",\"ticks\":\"\"},\"radialaxis\":{\"gridcolor\":\"white\",\"linecolor\":\"white\",\"ticks\":\"\"}},\"ternary\":{\"bgcolor\":\"#E5ECF6\",\"aaxis\":{\"gridcolor\":\"white\",\"linecolor\":\"white\",\"ticks\":\"\"},\"baxis\":{\"gridcolor\":\"white\",\"linecolor\":\"white\",\"ticks\":\"\"},\"caxis\":{\"gridcolor\":\"white\",\"linecolor\":\"white\",\"ticks\":\"\"}},\"coloraxis\":{\"colorbar\":{\"outlinewidth\":0,\"ticks\":\"\"}},\"colorscale\":{\"sequential\":[[0.0,\"#0d0887\"],[0.1111111111111111,\"#46039f\"],[0.2222222222222222,\"#7201a8\"],[0.3333333333333333,\"#9c179e\"],[0.4444444444444444,\"#bd3786\"],[0.5555555555555556,\"#d8576b\"],[0.6666666666666666,\"#ed7953\"],[0.7777777777777778,\"#fb9f3a\"],[0.8888888888888888,\"#fdca26\"],[1.0,\"#f0f921\"]],\"sequentialminus\":[[0.0,\"#0d0887\"],[0.1111111111111111,\"#46039f\"],[0.2222222222222222,\"#7201a8\"],[0.3333333333333333,\"#9c179e\"],[0.4444444444444444,\"#bd3786\"],[0.5555555555555556,\"#d8576b\"],[0.6666666666666666,\"#ed7953\"],[0.7777777777777778,\"#fb9f3a\"],[0.8888888888888888,\"#fdca26\"],[1.0,\"#f0f921\"]],\"diverging\":[[0,\"#8e0152\"],[0.1,\"#c51b7d\"],[0.2,\"#de77ae\"],[0.3,\"#f1b6da\"],[0.4,\"#fde0ef\"],[0.5,\"#f7f7f7\"],[0.6,\"#e6f5d0\"],[0.7,\"#b8e186\"],[0.8,\"#7fbc41\"],[0.9,\"#4d9221\"],[1,\"#276419\"]]},\"xaxis\":{\"gridcolor\":\"white\",\"linecolor\":\"white\",\"ticks\":\"\",\"title\":{\"standoff\":15},\"zerolinecolor\":\"white\",\"automargin\":true,\"zerolinewidth\":2},\"yaxis\":{\"gridcolor\":\"white\",\"linecolor\":\"white\",\"ticks\":\"\",\"title\":{\"standoff\":15},\"zerolinecolor\":\"white\",\"automargin\":true,\"zerolinewidth\":2},\"scene\":{\"xaxis\":{\"backgroundcolor\":\"#E5ECF6\",\"gridcolor\":\"white\",\"linecolor\":\"white\",\"showbackground\":true,\"ticks\":\"\",\"zerolinecolor\":\"white\",\"gridwidth\":2},\"yaxis\":{\"backgroundcolor\":\"#E5ECF6\",\"gridcolor\":\"white\",\"linecolor\":\"white\",\"showbackground\":true,\"ticks\":\"\",\"zerolinecolor\":\"white\",\"gridwidth\":2},\"zaxis\":{\"backgroundcolor\":\"#E5ECF6\",\"gridcolor\":\"white\",\"linecolor\":\"white\",\"showbackground\":true,\"ticks\":\"\",\"zerolinecolor\":\"white\",\"gridwidth\":2}},\"shapedefaults\":{\"line\":{\"color\":\"#2a3f5f\"}},\"annotationdefaults\":{\"arrowcolor\":\"#2a3f5f\",\"arrowhead\":0,\"arrowwidth\":1},\"geo\":{\"bgcolor\":\"white\",\"landcolor\":\"#E5ECF6\",\"subunitcolor\":\"white\",\"showland\":true,\"showlakes\":true,\"lakecolor\":\"white\"},\"title\":{\"x\":0.05},\"mapbox\":{\"style\":\"light\"}}},\"xaxis\":{\"title\":{\"text\":\"x axis\"},\"range\":[-2.0,82.0]},\"yaxis\":{\"title\":{\"text\":\"y axis\"},\"range\":[-10.2558,122.1762]},\"font\":{\"family\":\"Courier New, monospace\",\"size\":18,\"color\":\"RebeccaPurple\"},\"title\":{\"text\":\"Actual Targets Plot\"},\"legend\":{\"title\":{\"text\":\"Detections and Tracks\"}}},                        {\"responsive\": true}                    ).then(function(){\n",
       "                            \n",
       "var gd = document.getElementById('6c9fab3c-7e66-45f5-8177-318873bc3229');\n",
       "var x = new MutationObserver(function (mutations, observer) {{\n",
       "        var display = window.getComputedStyle(gd).display;\n",
       "        if (!display || display === 'none') {{\n",
       "            console.log([gd, 'removed!']);\n",
       "            Plotly.purge(gd);\n",
       "            observer.disconnect();\n",
       "        }}\n",
       "}});\n",
       "\n",
       "// Listen for the removal of the full notebook cells\n",
       "var notebookContainer = gd.closest('#notebook-container');\n",
       "if (notebookContainer) {{\n",
       "    x.observe(notebookContainer, {childList: true});\n",
       "}}\n",
       "\n",
       "// Listen for the clearing of the current output cell\n",
       "var outputEl = gd.closest('.output');\n",
       "if (outputEl) {{\n",
       "    x.observe(outputEl, {childList: true});\n",
       "}}\n",
       "\n",
       "                        })                };                });            </script>        </div>"
      ]
     },
     "metadata": {},
     "output_type": "display_data"
    }
   ],
   "source": [
    "\n",
    "if __name__ == \"__main__\":\n",
    "    duration = 12\n",
    "    dims = 2\n",
    "    num_targets = 2\n",
    "\n",
    "    # As targets are known, we initialize two local hypothesis\n",
    "    target_0 = generate_path(duration,)\n",
    "    target_1 = generate_path(duration, True)\n",
    "    \n",
    "    plot_paths(target_0, target_1)\n"
   ]
  },
  {
   "cell_type": "code",
   "execution_count": 5,
   "id": "95f45123",
   "metadata": {},
   "outputs": [
    {
     "name": "stdout",
     "output_type": "stream",
     "text": [
      "4 (array([10.,  2.]), array([10.,  5.]))\n"
     ]
    },
    {
     "data": {
      "image/png": "[encoded data removed]",
      "text/plain": [
       "<Figure size 432x288 with 1 Axes>"
      ]
     },
     "metadata": {},
     "output_type": "display_data"
    }
   ],
   "source": [
    "    \n",
    "    # Initialize graph object\n",
    "    G = nx.DiGraph()\n",
    "    \n",
    "    # Now, iterate through the detections and update local hypothesis based on shortest distance\n",
    "    for time_, j in enumerate(zip(target_0, target_1)):\n",
    "        if time_ == 0:\n",
    "            G.add_node(0, weight=1, loc=j[0].tolist())\n",
    "            G.add_node(1, weight=1, loc=j[1].tolist())\n",
    "            # G.add_nodes_from(range(num_targets))\n",
    "\n",
    "        else:\n",
    "            # First detected target\n",
    "            G.add_node(len(G.nodes), loc=j[0])\n",
    "            diff_0 = math.dist(j[0], G.nodes[len(G.nodes) - 3]['loc'])\n",
    "            diff_1 = math.dist(j[0], G.nodes[len(G.nodes) - 2]['loc'])\n",
    "\n",
    "            if diff_0 < diff_1:\n",
    "                G.add_edge(len(G.nodes) - 3, len(G.nodes) - 1, weight=1,)\n",
    "            else:\n",
    "                G.add_edge(len(G.nodes) - 2, len(G.nodes) - 1, weight=1,)\n",
    "\n",
    "            # Second detected target\n",
    "            G.add_node(len(G.nodes), loc=j[1])\n",
    "            diff_0 = math.dist(j[1], G.nodes[len(G.nodes) - 3]['loc'])\n",
    "            diff_1 = math.dist(j[1], G.nodes[len(G.nodes) - 2]['loc'])\n",
    "\n",
    "            if diff_0 < diff_1:\n",
    "                G.add_edge(len(G.nodes) - 3, len(G.nodes) - 1, weight=1,)\n",
    "            else:\n",
    "                G.add_edge(len(G.nodes) - 2, len(G.nodes) - 1, weight=1,)\n",
    "\n",
    "    nx.draw(G, with_labels = True)\n",
    "    print(time_, j)\n",
    "# print(target_0)"
   ]
  },
  {
   "cell_type": "code",
   "execution_count": 6,
   "id": "3556c35a",
   "metadata": {},
   "outputs": [],
   "source": [
    "# Find all paths caterring the negative weights\n",
    "paths = nx.johnson(G, weight='weight')\n",
    "# G.edges(data=True)"
   ]
  },
  {
   "cell_type": "code",
   "execution_count": null,
   "id": "f709d362",
   "metadata": {},
   "outputs": [],
   "source": [
    "# All paths\n",
    "paths\n",
    "\n",
    "# Generic function to calculate all paths between two nodes\n",
    "for path in nx.all_simple_paths(G, source=1, target=5):\n",
    "        print(path)"
   ]
  },
  {
   "cell_type": "code",
   "execution_count": 26,
   "id": "fab6b230",
   "metadata": {},
   "outputs": [
    {
     "name": "stdout",
     "output_type": "stream",
     "text": [
      "Longest path 1: [1, 3, 5, 7, 9]\n",
      "Longest path 2: [0, 2, 4, 6, 8]\n"
     ]
    }
   ],
   "source": [
    "all_paths = []\n",
    "for key, val in paths.items():\n",
    "    for ke, va in val.items():\n",
    "        all_paths.append(va)\n",
    "lengths = [len(path) for path in all_paths]\n",
    "sorted_paths = [path for _, path in sorted(zip(lengths, all_paths), reverse=True)]\n",
    "longest_2_paths = sorted_paths[:2]\n",
    "\n",
    "# Print the 2 longest paths\n",
    "for i, path in enumerate(longest_2_paths):\n",
    "    print(f\"Longest path {i+1}: {path}\")"
   ]
  },
  {
   "cell_type": "code",
   "execution_count": 20,
   "id": "b20e02fd",
   "metadata": {},
   "outputs": [
    {
     "data": {
      "text/plain": [
       "1"
      ]
     },
     "execution_count": 20,
     "metadata": {},
     "output_type": "execute_result"
    }
   ],
   "source": [
    "for path in nx.all_simple_paths(G, source=1, target=5):\n",
    "        print(path)"
   ]
  },
  {
   "cell_type": "code",
   "execution_count": 24,
   "id": "ba5b36bf",
   "metadata": {},
   "outputs": [
    {
     "data": {
      "text/plain": [
       "{0: {0: [0], 2: [0, 2], 4: [0, 2, 4], 6: [0, 2, 4, 6], 8: [0, 2, 4, 6, 8]},\n",
       " 1: {1: [1], 3: [1, 3], 5: [1, 3, 5], 7: [1, 3, 5, 7], 9: [1, 3, 5, 7, 9]},\n",
       " 2: {2: [2], 4: [2, 4], 6: [2, 4, 6], 8: [2, 4, 6, 8]},\n",
       " 3: {3: [3], 5: [3, 5], 7: [3, 5, 7], 9: [3, 5, 7, 9]},\n",
       " 4: {4: [4], 6: [4, 6], 8: [4, 6, 8]},\n",
       " 5: {5: [5], 7: [5, 7], 9: [5, 7, 9]},\n",
       " 6: {6: [6], 8: [6, 8]},\n",
       " 7: {7: [7], 9: [7, 9]},\n",
       " 8: {8: [8]},\n",
       " 9: {9: [9]}}"
      ]
     },
     "execution_count": 24,
     "metadata": {},
     "output_type": "execute_result"
    }
   ],
   "source": [
    "paths"
   ]
  }
 ],
 "metadata": {
  "kernelspec": {
   "display_name": "Python 3 (ipykernel)",
   "language": "python",
   "name": "python3"
  },
  "language_info": {
   "codemirror_mode": {
    "name": "ipython",
    "version": 3
   },
   "file_extension": ".py",
   "mimetype": "text/x-python",
   "name": "python",
   "nbconvert_exporter": "python",
   "pygments_lexer": "ipython3",
   "version": "3.10.6"
  }
 },
 "nbformat": 4,
 "nbformat_minor": 5
}
